{
 "cells": [
  {
   "cell_type": "code",
   "execution_count": 1,
   "id": "2a9ce851",
   "metadata": {},
   "outputs": [],
   "source": [
    "import torch\n",
    "import torch.nn as nn\n",
    "import torch.nn.functional as F\n",
    "import torchvision\n",
    "import torchvision.transforms as transforms\n",
    "import matplotlib.pyplot as plt\n",
    "import numpy as np"
   ]
  },
  {
   "cell_type": "code",
   "execution_count": 2,
   "id": "e65bb061",
   "metadata": {},
   "outputs": [],
   "source": [
    "device = torch.device('cuda')"
   ]
  },
  {
   "cell_type": "code",
   "execution_count": 3,
   "id": "c33d20b5",
   "metadata": {},
   "outputs": [
    {
     "data": {
      "text/plain": [
       "device(type='cuda')"
      ]
     },
     "execution_count": 3,
     "metadata": {},
     "output_type": "execute_result"
    }
   ],
   "source": [
    "device  # Checking weather GPU or CPU is being used"
   ]
  },
  {
   "cell_type": "code",
   "execution_count": 4,
   "id": "99fc9fa3",
   "metadata": {},
   "outputs": [
    {
     "data": {
      "text/plain": [
       "(5368709120, 6442123264)"
      ]
     },
     "execution_count": 4,
     "metadata": {},
     "output_type": "execute_result"
    }
   ],
   "source": [
    "torch.cuda.mem_get_info()"
   ]
  },
  {
   "cell_type": "code",
   "execution_count": 5,
   "id": "26488de0",
   "metadata": {},
   "outputs": [],
   "source": [
    "torch.cuda.empty_cache() "
   ]
  },
  {
   "cell_type": "code",
   "execution_count": 6,
   "id": "10f87937",
   "metadata": {},
   "outputs": [
    {
     "data": {
      "text/plain": [
       "(5368709120, 6442123264)"
      ]
     },
     "execution_count": 6,
     "metadata": {},
     "output_type": "execute_result"
    }
   ],
   "source": [
    "torch.cuda.mem_get_info()"
   ]
  },
  {
   "cell_type": "code",
   "execution_count": 7,
   "id": "c1bca638",
   "metadata": {},
   "outputs": [],
   "source": [
    "# Hyper-parameters\n",
    "num_epochs = 10\n",
    "batch_size = 4\n",
    "learning_rate = 0.001"
   ]
  },
  {
   "cell_type": "code",
   "execution_count": 8,
   "id": "b5cb0ece",
   "metadata": {},
   "outputs": [],
   "source": [
    "transform = transforms.Compose(\n",
    "                [transforms.ToTensor(),\n",
    "                 transforms.Normalize((0.5,0.5,0.5),(0.5,0.5,0.5))])   # Normalizing the data"
   ]
  },
  {
   "cell_type": "code",
   "execution_count": 9,
   "id": "a4ca3a51",
   "metadata": {},
   "outputs": [
    {
     "name": "stdout",
     "output_type": "stream",
     "text": [
      "Files already downloaded and verified\n",
      "Files already downloaded and verified\n"
     ]
    }
   ],
   "source": [
    "train_dataset = torchvision.datasets.CIFAR10(root = './data', train =True, download=True, transform = transform)\n",
    "train_loader = torch.utils.data.DataLoader(train_dataset, batch_size= batch_size, shuffle=True)\n",
    "\n",
    "test_dataset = torchvision.datasets.CIFAR10(root = './data', train =False, download=True, transform = transform)\n",
    "test_loader = torch.utils.data.DataLoader(test_dataset, batch_size= batch_size, shuffle=False)"
   ]
  },
  {
   "cell_type": "code",
   "execution_count": 10,
   "id": "434457d0",
   "metadata": {},
   "outputs": [],
   "source": [
    "classes = ('plane','car','bird','cat','deer','dog','frog','horse','ship','truck')"
   ]
  },
  {
   "cell_type": "code",
   "execution_count": 11,
   "id": "2d57c6ce",
   "metadata": {},
   "outputs": [],
   "source": [
    "#CNN\n",
    "class ConvNet(nn.Module):\n",
    "    def __init__(self):\n",
    "        super(ConvNet, self).__init__()\n",
    "        self.conv1 = nn.Conv2d(3, 6, 5)\n",
    "        self.pool = nn.MaxPool2d(2, 2)\n",
    "        self.conv2 = nn.Conv2d(6, 16, 5)\n",
    "        self.fc1 = nn.Linear(16 * 5 * 5, 120)\n",
    "        self.fc2 = nn.Linear(120, 84)\n",
    "        self.fc3 = nn.Linear(84, 10)\n",
    "\n",
    "    def forward(self, x):\n",
    "        # -> n, 3, 32, 32\n",
    "        x = self.pool(F.relu(self.conv1(x)))\n",
    "        x = self.pool(F.relu(self.conv2(x)))\n",
    "        x = x.view(-1, 16 * 5 * 5)\n",
    "        x = F.relu(self.fc1(x))\n",
    "        x = F.relu(self.fc2(x))\n",
    "        x = self.fc3(x)\n",
    "        return x\n",
    "model = ConvNet().to(device)"
   ]
  },
  {
   "cell_type": "code",
   "execution_count": 12,
   "id": "b925b5a0",
   "metadata": {},
   "outputs": [],
   "source": [
    "criterion = nn.CrossEntropyLoss()\n",
    "optimizer = torch.optim.SGD(model.parameters(), lr=learning_rate)"
   ]
  },
  {
   "cell_type": "code",
   "execution_count": 13,
   "id": "c7eb9e77",
   "metadata": {},
   "outputs": [
    {
     "data": {
      "text/plain": [
       "(5366611968, 6442123264)"
      ]
     },
     "execution_count": 13,
     "metadata": {},
     "output_type": "execute_result"
    }
   ],
   "source": [
    "torch.cuda.mem_get_info()"
   ]
  },
  {
   "cell_type": "code",
   "execution_count": 14,
   "id": "42dc7547",
   "metadata": {
    "scrolled": true
   },
   "outputs": [
    {
     "name": "stdout",
     "output_type": "stream",
     "text": [
      "Epoch [1/10], Step [2000/12500], Loss: 2.2859\n",
      "Epoch [1/10], Step [4000/12500], Loss: 2.2997\n",
      "Epoch [1/10], Step [6000/12500], Loss: 2.2872\n",
      "Epoch [1/10], Step [8000/12500], Loss: 2.2317\n",
      "Epoch [1/10], Step [10000/12500], Loss: 2.2537\n",
      "Epoch [1/10], Step [12000/12500], Loss: 2.2261\n",
      "Epoch [2/10], Step [2000/12500], Loss: 2.0235\n",
      "Epoch [2/10], Step [4000/12500], Loss: 1.7604\n",
      "Epoch [2/10], Step [6000/12500], Loss: 2.0179\n",
      "Epoch [2/10], Step [8000/12500], Loss: 1.7326\n",
      "Epoch [2/10], Step [10000/12500], Loss: 1.6597\n",
      "Epoch [2/10], Step [12000/12500], Loss: 2.7043\n",
      "Epoch [3/10], Step [2000/12500], Loss: 1.1232\n",
      "Epoch [3/10], Step [4000/12500], Loss: 2.3969\n",
      "Epoch [3/10], Step [6000/12500], Loss: 1.3320\n",
      "Epoch [3/10], Step [8000/12500], Loss: 2.2581\n",
      "Epoch [3/10], Step [10000/12500], Loss: 1.3527\n",
      "Epoch [3/10], Step [12000/12500], Loss: 1.3175\n",
      "Epoch [4/10], Step [2000/12500], Loss: 1.1168\n",
      "Epoch [4/10], Step [4000/12500], Loss: 0.8568\n",
      "Epoch [4/10], Step [6000/12500], Loss: 1.0584\n",
      "Epoch [4/10], Step [8000/12500], Loss: 1.2085\n",
      "Epoch [4/10], Step [10000/12500], Loss: 1.3370\n",
      "Epoch [4/10], Step [12000/12500], Loss: 1.7263\n",
      "Epoch [5/10], Step [2000/12500], Loss: 1.4254\n",
      "Epoch [5/10], Step [4000/12500], Loss: 1.2151\n",
      "Epoch [5/10], Step [6000/12500], Loss: 2.3775\n",
      "Epoch [5/10], Step [8000/12500], Loss: 1.0165\n",
      "Epoch [5/10], Step [10000/12500], Loss: 1.1701\n",
      "Epoch [5/10], Step [12000/12500], Loss: 1.6739\n",
      "Epoch [6/10], Step [2000/12500], Loss: 1.3961\n",
      "Epoch [6/10], Step [4000/12500], Loss: 1.7960\n",
      "Epoch [6/10], Step [6000/12500], Loss: 1.1962\n",
      "Epoch [6/10], Step [8000/12500], Loss: 1.6662\n",
      "Epoch [6/10], Step [10000/12500], Loss: 1.0473\n",
      "Epoch [6/10], Step [12000/12500], Loss: 1.6417\n",
      "Epoch [7/10], Step [2000/12500], Loss: 1.2897\n",
      "Epoch [7/10], Step [4000/12500], Loss: 1.4499\n",
      "Epoch [7/10], Step [6000/12500], Loss: 1.2574\n",
      "Epoch [7/10], Step [8000/12500], Loss: 1.6980\n",
      "Epoch [7/10], Step [10000/12500], Loss: 0.9041\n",
      "Epoch [7/10], Step [12000/12500], Loss: 1.3011\n",
      "Epoch [8/10], Step [2000/12500], Loss: 0.9475\n",
      "Epoch [8/10], Step [4000/12500], Loss: 0.9416\n",
      "Epoch [8/10], Step [6000/12500], Loss: 1.2376\n",
      "Epoch [8/10], Step [8000/12500], Loss: 2.5860\n",
      "Epoch [8/10], Step [10000/12500], Loss: 0.5627\n",
      "Epoch [8/10], Step [12000/12500], Loss: 1.3986\n",
      "Epoch [9/10], Step [2000/12500], Loss: 2.0074\n",
      "Epoch [9/10], Step [4000/12500], Loss: 1.0880\n",
      "Epoch [9/10], Step [6000/12500], Loss: 1.7202\n",
      "Epoch [9/10], Step [8000/12500], Loss: 0.9011\n",
      "Epoch [9/10], Step [10000/12500], Loss: 1.0207\n",
      "Epoch [9/10], Step [12000/12500], Loss: 1.7706\n",
      "Epoch [10/10], Step [2000/12500], Loss: 1.1389\n",
      "Epoch [10/10], Step [4000/12500], Loss: 1.5289\n",
      "Epoch [10/10], Step [6000/12500], Loss: 1.5963\n",
      "Epoch [10/10], Step [8000/12500], Loss: 1.1731\n",
      "Epoch [10/10], Step [10000/12500], Loss: 0.2357\n",
      "Epoch [10/10], Step [12000/12500], Loss: 0.7823\n"
     ]
    }
   ],
   "source": [
    "n_total_steps = len(train_loader)\n",
    "for epoch in range(num_epochs):\n",
    "    for i, (images, labels) in enumerate(train_loader):\n",
    "        # origin shape: [4, 3, 32, 32] = 4, 3, 1024\n",
    "        # input_layer: 3 input channels, 6 output channels, 5 kernel size\n",
    "        images = images.to(device)\n",
    "        labels = labels.to(device)\n",
    "\n",
    "        # Forward pass\n",
    "        outputs = model(images)\n",
    "        loss = criterion(outputs, labels)\n",
    "\n",
    "        # Backward and optimize\n",
    "        optimizer.zero_grad()\n",
    "        loss.backward()\n",
    "        optimizer.step()\n",
    "\n",
    "        if (i+1) % 2000 == 0:\n",
    "            print (f'Epoch [{epoch+1}/{num_epochs}], Step [{i+1}/{n_total_steps}], Loss: {loss.item():.4f}')"
   ]
  },
  {
   "cell_type": "code",
   "execution_count": 15,
   "id": "e53bf030",
   "metadata": {},
   "outputs": [
    {
     "data": {
      "text/plain": [
       "(5295308800, 6442123264)"
      ]
     },
     "execution_count": 15,
     "metadata": {},
     "output_type": "execute_result"
    }
   ],
   "source": [
    "torch.cuda.mem_get_info()"
   ]
  },
  {
   "cell_type": "code",
   "execution_count": 16,
   "id": "c4b32932",
   "metadata": {},
   "outputs": [
    {
     "name": "stdout",
     "output_type": "stream",
     "text": [
      "Finished Training\n"
     ]
    }
   ],
   "source": [
    "print('Finished Training')\n",
    "PATH = './cnn.pth'\n",
    "torch.save(model.state_dict(), PATH)"
   ]
  },
  {
   "cell_type": "code",
   "execution_count": 17,
   "id": "730e0222",
   "metadata": {},
   "outputs": [
    {
     "name": "stdout",
     "output_type": "stream",
     "text": [
      "Accuracy of the network: 56.22 %\n",
      "Accuracy of plane: 55.7 %\n",
      "Accuracy of car: 59.9 %\n",
      "Accuracy of bird: 47.2 %\n",
      "Accuracy of cat: 24.9 %\n",
      "Accuracy of deer: 36.0 %\n",
      "Accuracy of dog: 47.8 %\n",
      "Accuracy of frog: 74.6 %\n",
      "Accuracy of horse: 66.2 %\n",
      "Accuracy of ship: 84.5 %\n",
      "Accuracy of truck: 65.4 %\n"
     ]
    }
   ],
   "source": [
    "with torch.no_grad():\n",
    "    n_correct = 0\n",
    "    n_samples = 0\n",
    "    n_class_correct = [0 for i in range(10)]\n",
    "    n_class_samples = [0 for i in range(10)]\n",
    "    for images, labels in test_loader:\n",
    "        images = images.to(device)\n",
    "        labels = labels.to(device)\n",
    "        outputs = model(images)\n",
    "        # max returns (value ,index)\n",
    "        _, predicted = torch.max(outputs, 1)\n",
    "        n_samples += labels.size(0)\n",
    "        n_correct += (predicted == labels).sum().item()\n",
    "        \n",
    "        for i in range(batch_size):\n",
    "            label = labels[i]\n",
    "            pred = predicted[i]\n",
    "            if (label == pred):\n",
    "                n_class_correct[label] += 1\n",
    "            n_class_samples[label] += 1\n",
    "\n",
    "    acc = 100.0 * n_correct / n_samples\n",
    "    print(f'Accuracy of the network: {acc} %')\n",
    "\n",
    "    for i in range(10):\n",
    "        acc = 100.0 * n_class_correct[i] / n_class_samples[i]\n",
    "        print(f'Accuracy of {classes[i]}: {acc} %')"
   ]
  },
  {
   "cell_type": "code",
   "execution_count": 18,
   "id": "97304d2f",
   "metadata": {},
   "outputs": [
    {
     "data": {
      "text/plain": [
       "(5295308800, 6442123264)"
      ]
     },
     "execution_count": 18,
     "metadata": {},
     "output_type": "execute_result"
    }
   ],
   "source": [
    "torch.cuda.mem_get_info()"
   ]
  }
 ],
 "metadata": {
  "kernelspec": {
   "display_name": "Python 3 (ipykernel)",
   "language": "python",
   "name": "python3"
  },
  "language_info": {
   "codemirror_mode": {
    "name": "ipython",
    "version": 3
   },
   "file_extension": ".py",
   "mimetype": "text/x-python",
   "name": "python",
   "nbconvert_exporter": "python",
   "pygments_lexer": "ipython3",
   "version": "3.9.12"
  }
 },
 "nbformat": 4,
 "nbformat_minor": 5
}
